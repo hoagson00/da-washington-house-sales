{
 "cells": [
  {
   "cell_type": "markdown",
   "id": "505c43b6",
   "metadata": {},
   "source": [
    "### Import necessary libraries"
   ]
  },
  {
   "cell_type": "code",
   "execution_count": 1,
   "id": "c87efe06",
   "metadata": {},
   "outputs": [],
   "source": [
    "import pandas as pd\n",
    "import sklearn\n",
    "import numpy as np\n",
    "import seaborn as sns\n",
    "import matplotlib\n",
    "import matplotlib.pyplot as plt\n",
    "\n",
    "%matplotlib inline"
   ]
  },
  {
   "cell_type": "markdown",
   "id": "1320421e",
   "metadata": {},
   "source": [
    "### Read Files"
   ]
  },
  {
   "cell_type": "code",
   "execution_count": 2,
   "id": "f2068be6",
   "metadata": {},
   "outputs": [
    {
     "data": {
      "text/plain": [
       "(21060, 16)"
      ]
     },
     "execution_count": 2,
     "metadata": {},
     "output_type": "execute_result"
    }
   ],
   "source": [
    "filename = 'C:/Users/hoags/Desktop/Dataset/HouseData/House-Dataset.xlsx'\n",
    "df = pd.read_excel(filename)\n",
    "df.shape"
   ]
  },
  {
   "cell_type": "code",
   "execution_count": 3,
   "id": "fe542887",
   "metadata": {},
   "outputs": [
    {
     "name": "stdout",
     "output_type": "stream",
     "text": [
      "<class 'pandas.core.frame.DataFrame'>\n",
      "RangeIndex: 21060 entries, 0 to 21059\n",
      "Data columns (total 16 columns):\n",
      " #   Column       Non-Null Count  Dtype  \n",
      "---  ------       --------------  -----  \n",
      " 0   id           21060 non-null  int64  \n",
      " 1   date         21060 non-null  object \n",
      " 2   price        21060 non-null  int64  \n",
      " 3   bedrooms     21060 non-null  int64  \n",
      " 4   bathrooms    21060 non-null  float64\n",
      " 5   sqft_living  21060 non-null  int64  \n",
      " 6   sqft_lot     21060 non-null  int64  \n",
      " 7   floors       21060 non-null  float64\n",
      " 8   waterfront   21060 non-null  object \n",
      " 9   view         21060 non-null  object \n",
      " 10  condition    21060 non-null  object \n",
      " 11  grade        21060 non-null  int64  \n",
      " 12  yr_built     21060 non-null  int64  \n",
      " 13  zipcode      21060 non-null  int64  \n",
      " 14  lat          21060 non-null  float64\n",
      " 15  long         21060 non-null  float64\n",
      "dtypes: float64(4), int64(8), object(4)\n",
      "memory usage: 2.6+ MB\n"
     ]
    }
   ],
   "source": [
    "df.info()"
   ]
  },
  {
   "cell_type": "code",
   "execution_count": 4,
   "id": "3d134948",
   "metadata": {},
   "outputs": [],
   "source": [
    "# Convert date column to datetime\n",
    "df['date'] = pd.to_datetime(df['date'])"
   ]
  },
  {
   "cell_type": "code",
   "execution_count": 5,
   "id": "6d6f166f",
   "metadata": {},
   "outputs": [
    {
     "name": "stdout",
     "output_type": "stream",
     "text": [
      "<class 'pandas.core.frame.DataFrame'>\n",
      "RangeIndex: 21060 entries, 0 to 21059\n",
      "Data columns (total 16 columns):\n",
      " #   Column       Non-Null Count  Dtype         \n",
      "---  ------       --------------  -----         \n",
      " 0   id           21060 non-null  int64         \n",
      " 1   date         21060 non-null  datetime64[ns]\n",
      " 2   price        21060 non-null  int64         \n",
      " 3   bedrooms     21060 non-null  int64         \n",
      " 4   bathrooms    21060 non-null  float64       \n",
      " 5   sqft_living  21060 non-null  int64         \n",
      " 6   sqft_lot     21060 non-null  int64         \n",
      " 7   floors       21060 non-null  float64       \n",
      " 8   waterfront   21060 non-null  object        \n",
      " 9   view         21060 non-null  object        \n",
      " 10  condition    21060 non-null  object        \n",
      " 11  grade        21060 non-null  int64         \n",
      " 12  yr_built     21060 non-null  int64         \n",
      " 13  zipcode      21060 non-null  int64         \n",
      " 14  lat          21060 non-null  float64       \n",
      " 15  long         21060 non-null  float64       \n",
      "dtypes: datetime64[ns](1), float64(4), int64(8), object(3)\n",
      "memory usage: 2.6+ MB\n"
     ]
    }
   ],
   "source": [
    "df.info()"
   ]
  },
  {
   "cell_type": "code",
   "execution_count": 6,
   "id": "58e5dccf",
   "metadata": {},
   "outputs": [
    {
     "name": "stdout",
     "output_type": "stream",
     "text": [
      "Number of unique value in id : 20887\n",
      "Number of unique value in date : 372\n",
      "Number of unique value in price : 3748\n",
      "Number of unique value in bedrooms : 8\n",
      "Number of unique value in bathrooms : 26\n",
      "Number of unique value in sqft_living : 942\n",
      "Number of unique value in sqft_lot : 9518\n",
      "Number of unique value in floors : 6\n",
      "Number of unique value in waterfront : 2\n",
      "Number of unique value in view : 5\n",
      "Number of unique value in condition : 5\n",
      "Number of unique value in grade : 11\n",
      "Number of unique value in yr_built : 116\n",
      "Number of unique value in zipcode : 70\n",
      "Number of unique value in lat : 5026\n",
      "Number of unique value in long : 752\n"
     ]
    }
   ],
   "source": [
    "# Check the unique value count for each column\n",
    "for column in df.columns:\n",
    "    unique_values_count = df[column].nunique()\n",
    "    print('Number of unique value in', column, ':', unique_values_count)"
   ]
  },
  {
   "cell_type": "code",
   "execution_count": 7,
   "id": "9a30a175",
   "metadata": {},
   "outputs": [
    {
     "data": {
      "text/html": [
       "<div>\n",
       "<style scoped>\n",
       "    .dataframe tbody tr th:only-of-type {\n",
       "        vertical-align: middle;\n",
       "    }\n",
       "\n",
       "    .dataframe tbody tr th {\n",
       "        vertical-align: top;\n",
       "    }\n",
       "\n",
       "    .dataframe thead th {\n",
       "        text-align: right;\n",
       "    }\n",
       "</style>\n",
       "<table border=\"1\" class=\"dataframe\">\n",
       "  <thead>\n",
       "    <tr style=\"text-align: right;\">\n",
       "      <th></th>\n",
       "      <th>date</th>\n",
       "      <th>price</th>\n",
       "      <th>bedrooms</th>\n",
       "      <th>bathrooms</th>\n",
       "      <th>sqft_living</th>\n",
       "      <th>sqft_lot</th>\n",
       "      <th>floors</th>\n",
       "      <th>waterfront</th>\n",
       "      <th>view</th>\n",
       "      <th>condition</th>\n",
       "      <th>grade</th>\n",
       "      <th>yr_built</th>\n",
       "      <th>zipcode</th>\n",
       "    </tr>\n",
       "  </thead>\n",
       "  <tbody>\n",
       "    <tr>\n",
       "      <th>0</th>\n",
       "      <td>2014-10-22</td>\n",
       "      <td>1495000</td>\n",
       "      <td>4</td>\n",
       "      <td>3.25</td>\n",
       "      <td>3070</td>\n",
       "      <td>10375</td>\n",
       "      <td>2.0</td>\n",
       "      <td>No</td>\n",
       "      <td>No View</td>\n",
       "      <td>Average</td>\n",
       "      <td>10</td>\n",
       "      <td>1962</td>\n",
       "      <td>98004</td>\n",
       "    </tr>\n",
       "    <tr>\n",
       "      <th>1</th>\n",
       "      <td>2014-11-26</td>\n",
       "      <td>1495000</td>\n",
       "      <td>4</td>\n",
       "      <td>3.75</td>\n",
       "      <td>3770</td>\n",
       "      <td>4000</td>\n",
       "      <td>2.5</td>\n",
       "      <td>No</td>\n",
       "      <td>No View</td>\n",
       "      <td>Very Good</td>\n",
       "      <td>9</td>\n",
       "      <td>1916</td>\n",
       "      <td>98122</td>\n",
       "    </tr>\n",
       "    <tr>\n",
       "      <th>2</th>\n",
       "      <td>2015-01-29</td>\n",
       "      <td>1490000</td>\n",
       "      <td>4</td>\n",
       "      <td>2.50</td>\n",
       "      <td>2420</td>\n",
       "      <td>18480</td>\n",
       "      <td>1.0</td>\n",
       "      <td>No</td>\n",
       "      <td>No View</td>\n",
       "      <td>Good</td>\n",
       "      <td>9</td>\n",
       "      <td>1967</td>\n",
       "      <td>98004</td>\n",
       "    </tr>\n",
       "    <tr>\n",
       "      <th>3</th>\n",
       "      <td>2015-03-31</td>\n",
       "      <td>1490000</td>\n",
       "      <td>3</td>\n",
       "      <td>3.50</td>\n",
       "      <td>4560</td>\n",
       "      <td>14608</td>\n",
       "      <td>2.0</td>\n",
       "      <td>No</td>\n",
       "      <td>Average</td>\n",
       "      <td>Average</td>\n",
       "      <td>12</td>\n",
       "      <td>1990</td>\n",
       "      <td>98034</td>\n",
       "    </tr>\n",
       "    <tr>\n",
       "      <th>4</th>\n",
       "      <td>2014-09-11</td>\n",
       "      <td>1490000</td>\n",
       "      <td>5</td>\n",
       "      <td>3.50</td>\n",
       "      <td>3620</td>\n",
       "      <td>7821</td>\n",
       "      <td>2.0</td>\n",
       "      <td>No</td>\n",
       "      <td>Average</td>\n",
       "      <td>Average</td>\n",
       "      <td>10</td>\n",
       "      <td>1958</td>\n",
       "      <td>98040</td>\n",
       "    </tr>\n",
       "    <tr>\n",
       "      <th>...</th>\n",
       "      <td>...</td>\n",
       "      <td>...</td>\n",
       "      <td>...</td>\n",
       "      <td>...</td>\n",
       "      <td>...</td>\n",
       "      <td>...</td>\n",
       "      <td>...</td>\n",
       "      <td>...</td>\n",
       "      <td>...</td>\n",
       "      <td>...</td>\n",
       "      <td>...</td>\n",
       "      <td>...</td>\n",
       "      <td>...</td>\n",
       "    </tr>\n",
       "    <tr>\n",
       "      <th>21055</th>\n",
       "      <td>2014-11-05</td>\n",
       "      <td>82000</td>\n",
       "      <td>3</td>\n",
       "      <td>1.00</td>\n",
       "      <td>860</td>\n",
       "      <td>10426</td>\n",
       "      <td>1.0</td>\n",
       "      <td>No</td>\n",
       "      <td>No View</td>\n",
       "      <td>Average</td>\n",
       "      <td>6</td>\n",
       "      <td>1954</td>\n",
       "      <td>98146</td>\n",
       "    </tr>\n",
       "    <tr>\n",
       "      <th>21056</th>\n",
       "      <td>2015-03-24</td>\n",
       "      <td>81000</td>\n",
       "      <td>2</td>\n",
       "      <td>1.00</td>\n",
       "      <td>730</td>\n",
       "      <td>9975</td>\n",
       "      <td>1.0</td>\n",
       "      <td>No</td>\n",
       "      <td>No View</td>\n",
       "      <td>Poor- Worn out</td>\n",
       "      <td>5</td>\n",
       "      <td>1943</td>\n",
       "      <td>98168</td>\n",
       "    </tr>\n",
       "    <tr>\n",
       "      <th>21057</th>\n",
       "      <td>2014-05-23</td>\n",
       "      <td>80000</td>\n",
       "      <td>1</td>\n",
       "      <td>0.75</td>\n",
       "      <td>430</td>\n",
       "      <td>5050</td>\n",
       "      <td>1.0</td>\n",
       "      <td>No</td>\n",
       "      <td>No View</td>\n",
       "      <td>Fair- Badly worn</td>\n",
       "      <td>4</td>\n",
       "      <td>1912</td>\n",
       "      <td>98014</td>\n",
       "    </tr>\n",
       "    <tr>\n",
       "      <th>21058</th>\n",
       "      <td>2014-05-06</td>\n",
       "      <td>78000</td>\n",
       "      <td>2</td>\n",
       "      <td>1.00</td>\n",
       "      <td>780</td>\n",
       "      <td>16344</td>\n",
       "      <td>1.0</td>\n",
       "      <td>No</td>\n",
       "      <td>No View</td>\n",
       "      <td>Poor- Worn out</td>\n",
       "      <td>5</td>\n",
       "      <td>1942</td>\n",
       "      <td>98168</td>\n",
       "    </tr>\n",
       "    <tr>\n",
       "      <th>21059</th>\n",
       "      <td>2015-02-17</td>\n",
       "      <td>75000</td>\n",
       "      <td>1</td>\n",
       "      <td>0.00</td>\n",
       "      <td>670</td>\n",
       "      <td>43377</td>\n",
       "      <td>1.0</td>\n",
       "      <td>No</td>\n",
       "      <td>No View</td>\n",
       "      <td>Average</td>\n",
       "      <td>3</td>\n",
       "      <td>1966</td>\n",
       "      <td>98022</td>\n",
       "    </tr>\n",
       "  </tbody>\n",
       "</table>\n",
       "<p>21060 rows × 13 columns</p>\n",
       "</div>"
      ],
      "text/plain": [
       "            date    price  bedrooms  bathrooms  sqft_living  sqft_lot  floors  \\\n",
       "0     2014-10-22  1495000         4       3.25         3070     10375     2.0   \n",
       "1     2014-11-26  1495000         4       3.75         3770      4000     2.5   \n",
       "2     2015-01-29  1490000         4       2.50         2420     18480     1.0   \n",
       "3     2015-03-31  1490000         3       3.50         4560     14608     2.0   \n",
       "4     2014-09-11  1490000         5       3.50         3620      7821     2.0   \n",
       "...          ...      ...       ...        ...          ...       ...     ...   \n",
       "21055 2014-11-05    82000         3       1.00          860     10426     1.0   \n",
       "21056 2015-03-24    81000         2       1.00          730      9975     1.0   \n",
       "21057 2014-05-23    80000         1       0.75          430      5050     1.0   \n",
       "21058 2014-05-06    78000         2       1.00          780     16344     1.0   \n",
       "21059 2015-02-17    75000         1       0.00          670     43377     1.0   \n",
       "\n",
       "      waterfront     view         condition  grade  yr_built  zipcode  \n",
       "0             No  No View           Average     10      1962    98004  \n",
       "1             No  No View         Very Good      9      1916    98122  \n",
       "2             No  No View              Good      9      1967    98004  \n",
       "3             No  Average           Average     12      1990    98034  \n",
       "4             No  Average           Average     10      1958    98040  \n",
       "...          ...      ...               ...    ...       ...      ...  \n",
       "21055         No  No View           Average      6      1954    98146  \n",
       "21056         No  No View    Poor- Worn out      5      1943    98168  \n",
       "21057         No  No View  Fair- Badly worn      4      1912    98014  \n",
       "21058         No  No View    Poor- Worn out      5      1942    98168  \n",
       "21059         No  No View           Average      3      1966    98022  \n",
       "\n",
       "[21060 rows x 13 columns]"
      ]
     },
     "execution_count": 7,
     "metadata": {},
     "output_type": "execute_result"
    }
   ],
   "source": [
    "# Drop columns id, lat, long\n",
    "df.drop(columns = ['id', 'lat', 'long'])"
   ]
  },
  {
   "cell_type": "code",
   "execution_count": 8,
   "id": "05ff115a",
   "metadata": {},
   "outputs": [
    {
     "name": "stdout",
     "output_type": "stream",
     "text": [
      "<class 'pandas.core.frame.DataFrame'>\n",
      "RangeIndex: 21060 entries, 0 to 21059\n",
      "Data columns (total 16 columns):\n",
      " #   Column       Non-Null Count  Dtype         \n",
      "---  ------       --------------  -----         \n",
      " 0   id           21060 non-null  int64         \n",
      " 1   date         21060 non-null  datetime64[ns]\n",
      " 2   price        21060 non-null  int64         \n",
      " 3   bedrooms     21060 non-null  int64         \n",
      " 4   bathrooms    21060 non-null  float64       \n",
      " 5   sqft_living  21060 non-null  int64         \n",
      " 6   sqft_lot     21060 non-null  int64         \n",
      " 7   floors       21060 non-null  float64       \n",
      " 8   waterfront   21060 non-null  object        \n",
      " 9   view         21060 non-null  object        \n",
      " 10  condition    21060 non-null  object        \n",
      " 11  grade        21060 non-null  int64         \n",
      " 12  yr_built     21060 non-null  int64         \n",
      " 13  zipcode      21060 non-null  int64         \n",
      " 14  lat          21060 non-null  float64       \n",
      " 15  long         21060 non-null  float64       \n",
      "dtypes: datetime64[ns](1), float64(4), int64(8), object(3)\n",
      "memory usage: 2.6+ MB\n"
     ]
    }
   ],
   "source": [
    "df.info()"
   ]
  },
  {
   "cell_type": "markdown",
   "id": "02a59e96",
   "metadata": {},
   "source": [
    "### Outlier Detection for Numerical Feature"
   ]
  },
  {
   "cell_type": "code",
   "execution_count": 9,
   "id": "ae01e1c8",
   "metadata": {},
   "outputs": [
    {
     "name": "stdout",
     "output_type": "stream",
     "text": [
      "There are outliers in price\n",
      "Count of lower outliers 0\n",
      "Count of upper outliers 713\n",
      "There are outliers in bedrooms\n",
      "Count of lower outliers 212\n",
      "Count of upper outliers 280\n",
      "There are outliers in bathrooms\n",
      "Count of lower outliers 0\n",
      "Count of upper outliers 139\n",
      "There are outliers in sqft_living\n",
      "Count of lower outliers 0\n",
      "Count of upper outliers 383\n",
      "There are outliers in sqft_lot\n",
      "Count of lower outliers 0\n",
      "Count of upper outliers 2312\n",
      "No outliers in floors\n",
      "There are outliers in grade\n",
      "Count of lower outliers 275\n",
      "Count of upper outliers 1230\n",
      "No outliers in yr_built\n",
      "No outliers in zipcode\n"
     ]
    }
   ],
   "source": [
    "def count_outliers(data, col):\n",
    "    q1 = data[col].quantile(0.25, interpolation='nearest')\n",
    "    q3 = data[col].quantile(0.75, interpolation='nearest')\n",
    "    IQR = q3 - q1\n",
    "    LLP = q1 - 1.5 * IQR\n",
    "    ULP = q3 + 1.5 * IQR\n",
    "    \n",
    "    lower_outliers = data[data[col] < LLP][col].size\n",
    "    upper_outliers = data[data[col] > ULP][col].size\n",
    "    \n",
    "    if lower_outliers == 0 and upper_outliers ==0:\n",
    "        print(\"No outliers in\", col)\n",
    "    else:\n",
    "        print(\"There are outliers in\", col)\n",
    "        print(\"Count of lower outliers\", lower_outliers)\n",
    "        print(\"Count of upper outliers\", upper_outliers)\n",
    "        \n",
    "numerical_features = ['price', 'bedrooms', 'bathrooms', 'sqft_living', 'sqft_lot', 'floors', 'grade', 'yr_built', 'zipcode']\n",
    "\n",
    "for feature in numerical_features:\n",
    "    count_outliers(df, feature)"
   ]
  },
  {
   "cell_type": "code",
   "execution_count": 10,
   "id": "b6810d8d",
   "metadata": {},
   "outputs": [
    {
     "data": {
      "image/png": "[encoded data removed]",
      "text/plain": [
       "<Figure size 1296x720 with 6 Axes>"
      ]
     },
     "metadata": {
      "needs_background": "light"
     },
     "output_type": "display_data"
    }
   ],
   "source": [
    "fig, axes = plt.subplots (nrows=2, ncols=3, figsize=(18,10))\n",
    "axes = axes.flatten()\n",
    "\n",
    "outliers_numerical = ['price', 'bedrooms', 'bathrooms', 'sqft_living', 'sqft_lot', 'grade']\n",
    "# Plot box plots for numerical features\n",
    "for i, col in enumerate(outliers_numerical):\n",
    "    ax = axes[i]\n",
    "    df.boxplot(column=[col], ax=ax)\n",
    "    ax.set_title(col)\n",
    "    ax.set_ylabel('Value')\n",
    "    \n",
    "plt.tight_layout()\n",
    "plt.show()"
   ]
  },
  {
   "cell_type": "markdown",
   "id": "9b0366bb",
   "metadata": {},
   "source": [
    "### Transformation for numerical features"
   ]
  },
  {
   "cell_type": "code",
   "execution_count": 11,
   "id": "44bd5683",
   "metadata": {},
   "outputs": [
    {
     "data": {
      "text/html": [
       "<div>\n",
       "<style scoped>\n",
       "    .dataframe tbody tr th:only-of-type {\n",
       "        vertical-align: middle;\n",
       "    }\n",
       "\n",
       "    .dataframe tbody tr th {\n",
       "        vertical-align: top;\n",
       "    }\n",
       "\n",
       "    .dataframe thead th {\n",
       "        text-align: right;\n",
       "    }\n",
       "</style>\n",
       "<table border=\"1\" class=\"dataframe\">\n",
       "  <thead>\n",
       "    <tr style=\"text-align: right;\">\n",
       "      <th></th>\n",
       "      <th>price</th>\n",
       "      <th>bedrooms</th>\n",
       "      <th>bathrooms</th>\n",
       "      <th>sqft_living</th>\n",
       "      <th>sqft_lot</th>\n",
       "      <th>grade</th>\n",
       "    </tr>\n",
       "  </thead>\n",
       "  <tbody>\n",
       "    <tr>\n",
       "      <th>0</th>\n",
       "      <td>1495000</td>\n",
       "      <td>4</td>\n",
       "      <td>3.25</td>\n",
       "      <td>3070</td>\n",
       "      <td>10375</td>\n",
       "      <td>10</td>\n",
       "    </tr>\n",
       "    <tr>\n",
       "      <th>1</th>\n",
       "      <td>1495000</td>\n",
       "      <td>4</td>\n",
       "      <td>3.75</td>\n",
       "      <td>3770</td>\n",
       "      <td>4000</td>\n",
       "      <td>9</td>\n",
       "    </tr>\n",
       "    <tr>\n",
       "      <th>2</th>\n",
       "      <td>1490000</td>\n",
       "      <td>4</td>\n",
       "      <td>2.50</td>\n",
       "      <td>2420</td>\n",
       "      <td>18480</td>\n",
       "      <td>9</td>\n",
       "    </tr>\n",
       "    <tr>\n",
       "      <th>3</th>\n",
       "      <td>1490000</td>\n",
       "      <td>3</td>\n",
       "      <td>3.50</td>\n",
       "      <td>4560</td>\n",
       "      <td>14608</td>\n",
       "      <td>12</td>\n",
       "    </tr>\n",
       "    <tr>\n",
       "      <th>4</th>\n",
       "      <td>1490000</td>\n",
       "      <td>5</td>\n",
       "      <td>3.50</td>\n",
       "      <td>3620</td>\n",
       "      <td>7821</td>\n",
       "      <td>10</td>\n",
       "    </tr>\n",
       "  </tbody>\n",
       "</table>\n",
       "</div>"
      ],
      "text/plain": [
       "     price  bedrooms  bathrooms  sqft_living  sqft_lot  grade\n",
       "0  1495000         4       3.25         3070     10375     10\n",
       "1  1495000         4       3.75         3770      4000      9\n",
       "2  1490000         4       2.50         2420     18480      9\n",
       "3  1490000         3       3.50         4560     14608     12\n",
       "4  1490000         5       3.50         3620      7821     10"
      ]
     },
     "execution_count": 11,
     "metadata": {},
     "output_type": "execute_result"
    }
   ],
   "source": [
    "data_transformed = df[outliers_numerical]\n",
    "data_transformed.head()"
   ]
  },
  {
   "cell_type": "markdown",
   "id": "e8526224",
   "metadata": {},
   "source": [
    "### With log transformation"
   ]
  },
  {
   "cell_type": "code",
   "execution_count": 12,
   "id": "c5839286",
   "metadata": {},
   "outputs": [
    {
     "name": "stderr",
     "output_type": "stream",
     "text": [
      "C:\\Users\\hoags\\AppData\\Local\\Temp\\ipykernel_5560\\4075392425.py:2: SettingWithCopyWarning: \n",
      "A value is trying to be set on a copy of a slice from a DataFrame.\n",
      "Try using .loc[row_indexer,col_indexer] = value instead\n",
      "\n",
      "See the caveats in the documentation: https://pandas.pydata.org/pandas-docs/stable/user_guide/indexing.html#returning-a-view-versus-a-copy\n",
      "  data_transformed[feature] = np.log1p(data_transformed[feature])\n"
     ]
    },
    {
     "name": "stdout",
     "output_type": "stream",
     "text": [
      "There are outliers in price\n",
      "Count of lower outliers 61\n",
      "Count of upper outliers 0\n",
      "There are outliers in bedrooms\n",
      "Count of lower outliers 212\n",
      "Count of upper outliers 280\n",
      "There are outliers in bathrooms\n",
      "Count of lower outliers 14\n",
      "Count of upper outliers 23\n",
      "There are outliers in sqft_living\n",
      "Count of lower outliers 57\n",
      "Count of upper outliers 19\n",
      "There are outliers in sqft_lot\n",
      "Count of lower outliers 988\n",
      "Count of upper outliers 1566\n",
      "There are outliers in grade\n",
      "Count of lower outliers 275\n",
      "Count of upper outliers 1230\n"
     ]
    },
    {
     "data": {
      "image/png": "[encoded data removed]",
      "text/plain": [
       "<Figure size 1296x720 with 6 Axes>"
      ]
     },
     "metadata": {
      "needs_background": "light"
     },
     "output_type": "display_data"
    }
   ],
   "source": [
    "for feature in outliers_numerical:\n",
    "    data_transformed[feature] = np.log1p(data_transformed[feature])\n",
    "\n",
    "# Check outlier\n",
    "for feature in outliers_numerical:\n",
    "    count_outliers(data_transformed, feature)\n",
    "\n",
    "fig, axes = plt.subplots(nrows=2, ncols=3, figsize=(18,10))\n",
    "axes = axes.flatten()\n",
    "\n",
    "# Plot box plots for numerical features\n",
    "for i, col in enumerate(outliers_numerical):\n",
    "    ax = axes[i]\n",
    "    data_transformed.boxplot(column = [col], ax=ax)\n",
    "    ax.set_title(col)\n",
    "    ax.set_ylabel('Value')\n",
    "\n",
    "plt.tight_layout()\n",
    "plt.show()"
   ]
  },
  {
   "cell_type": "code",
   "execution_count": 13,
   "id": "ece2bf54",
   "metadata": {},
   "outputs": [
    {
     "name": "stderr",
     "output_type": "stream",
     "text": [
      "C:\\Users\\hoags\\AppData\\Local\\Temp\\ipykernel_5560\\2303374318.py:3: SettingWithCopyWarning: \n",
      "A value is trying to be set on a copy of a slice from a DataFrame.\n",
      "Try using .loc[row_indexer,col_indexer] = value instead\n",
      "\n",
      "See the caveats in the documentation: https://pandas.pydata.org/pandas-docs/stable/user_guide/indexing.html#returning-a-view-versus-a-copy\n",
      "  data_transformed[f'{feature}_log'] = np.log1p(data_transformed[feature])\n",
      "C:\\Users\\hoags\\AppData\\Local\\Temp\\ipykernel_5560\\2303374318.py:3: SettingWithCopyWarning: \n",
      "A value is trying to be set on a copy of a slice from a DataFrame.\n",
      "Try using .loc[row_indexer,col_indexer] = value instead\n",
      "\n",
      "See the caveats in the documentation: https://pandas.pydata.org/pandas-docs/stable/user_guide/indexing.html#returning-a-view-versus-a-copy\n",
      "  data_transformed[f'{feature}_log'] = np.log1p(data_transformed[feature])\n",
      "C:\\Users\\hoags\\AppData\\Local\\Temp\\ipykernel_5560\\2303374318.py:3: SettingWithCopyWarning: \n",
      "A value is trying to be set on a copy of a slice from a DataFrame.\n",
      "Try using .loc[row_indexer,col_indexer] = value instead\n",
      "\n",
      "See the caveats in the documentation: https://pandas.pydata.org/pandas-docs/stable/user_guide/indexing.html#returning-a-view-versus-a-copy\n",
      "  data_transformed[f'{feature}_log'] = np.log1p(data_transformed[feature])\n",
      "C:\\Users\\hoags\\AppData\\Local\\Temp\\ipykernel_5560\\2303374318.py:3: SettingWithCopyWarning: \n",
      "A value is trying to be set on a copy of a slice from a DataFrame.\n",
      "Try using .loc[row_indexer,col_indexer] = value instead\n",
      "\n",
      "See the caveats in the documentation: https://pandas.pydata.org/pandas-docs/stable/user_guide/indexing.html#returning-a-view-versus-a-copy\n",
      "  data_transformed[f'{feature}_log'] = np.log1p(data_transformed[feature])\n",
      "C:\\Users\\hoags\\AppData\\Local\\Temp\\ipykernel_5560\\2303374318.py:3: SettingWithCopyWarning: \n",
      "A value is trying to be set on a copy of a slice from a DataFrame.\n",
      "Try using .loc[row_indexer,col_indexer] = value instead\n",
      "\n",
      "See the caveats in the documentation: https://pandas.pydata.org/pandas-docs/stable/user_guide/indexing.html#returning-a-view-versus-a-copy\n",
      "  data_transformed[f'{feature}_log'] = np.log1p(data_transformed[feature])\n",
      "C:\\Users\\hoags\\AppData\\Local\\Temp\\ipykernel_5560\\2303374318.py:3: SettingWithCopyWarning: \n",
      "A value is trying to be set on a copy of a slice from a DataFrame.\n",
      "Try using .loc[row_indexer,col_indexer] = value instead\n",
      "\n",
      "See the caveats in the documentation: https://pandas.pydata.org/pandas-docs/stable/user_guide/indexing.html#returning-a-view-versus-a-copy\n",
      "  data_transformed[f'{feature}_log'] = np.log1p(data_transformed[feature])\n",
      "C:\\Users\\hoags\\AppData\\Local\\Temp\\ipykernel_5560\\2303374318.py:4: SettingWithCopyWarning: \n",
      "A value is trying to be set on a copy of a slice from a DataFrame\n",
      "\n",
      "See the caveats in the documentation: https://pandas.pydata.org/pandas-docs/stable/user_guide/indexing.html#returning-a-view-versus-a-copy\n",
      "  data_transformed.drop(outliers_numerical, axis=1, inplace=True)\n"
     ]
    },
    {
     "data": {
      "text/html": [
       "<div>\n",
       "<style scoped>\n",
       "    .dataframe tbody tr th:only-of-type {\n",
       "        vertical-align: middle;\n",
       "    }\n",
       "\n",
       "    .dataframe tbody tr th {\n",
       "        vertical-align: top;\n",
       "    }\n",
       "\n",
       "    .dataframe thead th {\n",
       "        text-align: right;\n",
       "    }\n",
       "</style>\n",
       "<table border=\"1\" class=\"dataframe\">\n",
       "  <thead>\n",
       "    <tr style=\"text-align: right;\">\n",
       "      <th></th>\n",
       "      <th>price_log</th>\n",
       "      <th>bedrooms_log</th>\n",
       "      <th>bathrooms_log</th>\n",
       "      <th>sqft_living_log</th>\n",
       "      <th>sqft_lot_log</th>\n",
       "      <th>grade_log</th>\n",
       "    </tr>\n",
       "  </thead>\n",
       "  <tbody>\n",
       "    <tr>\n",
       "      <th>0</th>\n",
       "      <td>2.722455</td>\n",
       "      <td>0.959135</td>\n",
       "      <td>0.894830</td>\n",
       "      <td>2.200526</td>\n",
       "      <td>2.327009</td>\n",
       "      <td>1.223156</td>\n",
       "    </tr>\n",
       "    <tr>\n",
       "      <th>1</th>\n",
       "      <td>2.722455</td>\n",
       "      <td>0.959135</td>\n",
       "      <td>0.939282</td>\n",
       "      <td>2.223011</td>\n",
       "      <td>2.229401</td>\n",
       "      <td>1.194706</td>\n",
       "    </tr>\n",
       "    <tr>\n",
       "      <th>2</th>\n",
       "      <td>2.722235</td>\n",
       "      <td>0.959135</td>\n",
       "      <td>0.812157</td>\n",
       "      <td>2.173835</td>\n",
       "      <td>2.381812</td>\n",
       "      <td>1.194706</td>\n",
       "    </tr>\n",
       "    <tr>\n",
       "      <th>3</th>\n",
       "      <td>2.722235</td>\n",
       "      <td>0.869742</td>\n",
       "      <td>0.917920</td>\n",
       "      <td>2.243397</td>\n",
       "      <td>2.359853</td>\n",
       "      <td>1.271150</td>\n",
       "    </tr>\n",
       "    <tr>\n",
       "      <th>4</th>\n",
       "      <td>2.722235</td>\n",
       "      <td>1.026672</td>\n",
       "      <td>0.917920</td>\n",
       "      <td>2.218606</td>\n",
       "      <td>2.299048</td>\n",
       "      <td>1.223156</td>\n",
       "    </tr>\n",
       "    <tr>\n",
       "      <th>...</th>\n",
       "      <td>...</td>\n",
       "      <td>...</td>\n",
       "      <td>...</td>\n",
       "      <td>...</td>\n",
       "      <td>...</td>\n",
       "      <td>...</td>\n",
       "    </tr>\n",
       "    <tr>\n",
       "      <th>21055</th>\n",
       "      <td>2.510776</td>\n",
       "      <td>0.869742</td>\n",
       "      <td>0.526589</td>\n",
       "      <td>2.048737</td>\n",
       "      <td>2.327488</td>\n",
       "      <td>1.080418</td>\n",
       "    </tr>\n",
       "    <tr>\n",
       "      <th>21056</th>\n",
       "      <td>2.509779</td>\n",
       "      <td>0.741276</td>\n",
       "      <td>0.526589</td>\n",
       "      <td>2.027413</td>\n",
       "      <td>2.323166</td>\n",
       "      <td>1.026672</td>\n",
       "    </tr>\n",
       "    <tr>\n",
       "      <th>21057</th>\n",
       "      <td>2.508769</td>\n",
       "      <td>0.526589</td>\n",
       "      <td>0.444440</td>\n",
       "      <td>1.955310</td>\n",
       "      <td>2.254166</td>\n",
       "      <td>0.959135</td>\n",
       "    </tr>\n",
       "    <tr>\n",
       "      <th>21058</th>\n",
       "      <td>2.506707</td>\n",
       "      <td>0.741276</td>\n",
       "      <td>0.526589</td>\n",
       "      <td>2.036087</td>\n",
       "      <td>2.370400</td>\n",
       "      <td>1.026672</td>\n",
       "    </tr>\n",
       "    <tr>\n",
       "      <th>21059</th>\n",
       "      <td>2.503504</td>\n",
       "      <td>0.526589</td>\n",
       "      <td>0.000000</td>\n",
       "      <td>2.016072</td>\n",
       "      <td>2.457682</td>\n",
       "      <td>0.869742</td>\n",
       "    </tr>\n",
       "  </tbody>\n",
       "</table>\n",
       "<p>21060 rows × 6 columns</p>\n",
       "</div>"
      ],
      "text/plain": [
       "       price_log  bedrooms_log  bathrooms_log  sqft_living_log  sqft_lot_log  \\\n",
       "0       2.722455      0.959135       0.894830         2.200526      2.327009   \n",
       "1       2.722455      0.959135       0.939282         2.223011      2.229401   \n",
       "2       2.722235      0.959135       0.812157         2.173835      2.381812   \n",
       "3       2.722235      0.869742       0.917920         2.243397      2.359853   \n",
       "4       2.722235      1.026672       0.917920         2.218606      2.299048   \n",
       "...          ...           ...            ...              ...           ...   \n",
       "21055   2.510776      0.869742       0.526589         2.048737      2.327488   \n",
       "21056   2.509779      0.741276       0.526589         2.027413      2.323166   \n",
       "21057   2.508769      0.526589       0.444440         1.955310      2.254166   \n",
       "21058   2.506707      0.741276       0.526589         2.036087      2.370400   \n",
       "21059   2.503504      0.526589       0.000000         2.016072      2.457682   \n",
       "\n",
       "       grade_log  \n",
       "0       1.223156  \n",
       "1       1.194706  \n",
       "2       1.194706  \n",
       "3       1.271150  \n",
       "4       1.223156  \n",
       "...          ...  \n",
       "21055   1.080418  \n",
       "21056   1.026672  \n",
       "21057   0.959135  \n",
       "21058   1.026672  \n",
       "21059   0.869742  \n",
       "\n",
       "[21060 rows x 6 columns]"
      ]
     },
     "execution_count": 13,
     "metadata": {},
     "output_type": "execute_result"
    }
   ],
   "source": [
    "# Rename columns\n",
    "for feature in outliers_numerical:\n",
    "    data_transformed[f'{feature}_log'] = np.log1p(data_transformed[feature])\n",
    "data_transformed.drop(outliers_numerical, axis=1, inplace=True)\n",
    "data_transformed"
   ]
  },
  {
   "cell_type": "markdown",
   "id": "694f3a15",
   "metadata": {},
   "source": [
    "### One hot Encoding for categorical feature"
   ]
  },
  {
   "cell_type": "code",
   "execution_count": 14,
   "id": "ffd74a20",
   "metadata": {},
   "outputs": [
    {
     "name": "stdout",
     "output_type": "stream",
     "text": [
      "<class 'pandas.core.frame.DataFrame'>\n",
      "RangeIndex: 21060 entries, 0 to 21059\n",
      "Data columns (total 9 columns):\n",
      " #   Column                      Non-Null Count  Dtype\n",
      "---  ------                      --------------  -----\n",
      " 0   waterfront_Yes              21060 non-null  uint8\n",
      " 1   view_Excellent              21060 non-null  uint8\n",
      " 2   view_Fair                   21060 non-null  uint8\n",
      " 3   view_Good                   21060 non-null  uint8\n",
      " 4   view_No View                21060 non-null  uint8\n",
      " 5   condition_Fair- Badly worn  21060 non-null  uint8\n",
      " 6   condition_Good              21060 non-null  uint8\n",
      " 7   condition_Poor- Worn out    21060 non-null  uint8\n",
      " 8   condition_Very Good         21060 non-null  uint8\n",
      "dtypes: uint8(9)\n",
      "memory usage: 185.2 KB\n"
     ]
    }
   ],
   "source": [
    "categorical_features = ['waterfront', 'view', 'condition']\n",
    "categorical_dummies = pd.get_dummies(df[categorical_features], drop_first=True)\n",
    "categorical_dummies.info()"
   ]
  },
  {
   "cell_type": "markdown",
   "id": "636e9a17",
   "metadata": {},
   "source": [
    "### One hot Encoding for datetime feature"
   ]
  },
  {
   "cell_type": "code",
   "execution_count": 15,
   "id": "b8b7065e",
   "metadata": {},
   "outputs": [
    {
     "data": {
      "text/html": [
       "<div>\n",
       "<style scoped>\n",
       "    .dataframe tbody tr th:only-of-type {\n",
       "        vertical-align: middle;\n",
       "    }\n",
       "\n",
       "    .dataframe tbody tr th {\n",
       "        vertical-align: top;\n",
       "    }\n",
       "\n",
       "    .dataframe thead th {\n",
       "        text-align: right;\n",
       "    }\n",
       "</style>\n",
       "<table border=\"1\" class=\"dataframe\">\n",
       "  <thead>\n",
       "    <tr style=\"text-align: right;\">\n",
       "      <th></th>\n",
       "      <th>year</th>\n",
       "      <th>month</th>\n",
       "      <th>day</th>\n",
       "    </tr>\n",
       "  </thead>\n",
       "  <tbody>\n",
       "    <tr>\n",
       "      <th>0</th>\n",
       "      <td>2014</td>\n",
       "      <td>10</td>\n",
       "      <td>22</td>\n",
       "    </tr>\n",
       "    <tr>\n",
       "      <th>1</th>\n",
       "      <td>2014</td>\n",
       "      <td>11</td>\n",
       "      <td>26</td>\n",
       "    </tr>\n",
       "    <tr>\n",
       "      <th>2</th>\n",
       "      <td>2015</td>\n",
       "      <td>1</td>\n",
       "      <td>29</td>\n",
       "    </tr>\n",
       "    <tr>\n",
       "      <th>3</th>\n",
       "      <td>2015</td>\n",
       "      <td>3</td>\n",
       "      <td>31</td>\n",
       "    </tr>\n",
       "    <tr>\n",
       "      <th>4</th>\n",
       "      <td>2014</td>\n",
       "      <td>9</td>\n",
       "      <td>11</td>\n",
       "    </tr>\n",
       "    <tr>\n",
       "      <th>...</th>\n",
       "      <td>...</td>\n",
       "      <td>...</td>\n",
       "      <td>...</td>\n",
       "    </tr>\n",
       "    <tr>\n",
       "      <th>21055</th>\n",
       "      <td>2014</td>\n",
       "      <td>11</td>\n",
       "      <td>5</td>\n",
       "    </tr>\n",
       "    <tr>\n",
       "      <th>21056</th>\n",
       "      <td>2015</td>\n",
       "      <td>3</td>\n",
       "      <td>24</td>\n",
       "    </tr>\n",
       "    <tr>\n",
       "      <th>21057</th>\n",
       "      <td>2014</td>\n",
       "      <td>5</td>\n",
       "      <td>23</td>\n",
       "    </tr>\n",
       "    <tr>\n",
       "      <th>21058</th>\n",
       "      <td>2014</td>\n",
       "      <td>5</td>\n",
       "      <td>6</td>\n",
       "    </tr>\n",
       "    <tr>\n",
       "      <th>21059</th>\n",
       "      <td>2015</td>\n",
       "      <td>2</td>\n",
       "      <td>17</td>\n",
       "    </tr>\n",
       "  </tbody>\n",
       "</table>\n",
       "<p>21060 rows × 3 columns</p>\n",
       "</div>"
      ],
      "text/plain": [
       "       year  month  day\n",
       "0      2014     10   22\n",
       "1      2014     11   26\n",
       "2      2015      1   29\n",
       "3      2015      3   31\n",
       "4      2014      9   11\n",
       "...     ...    ...  ...\n",
       "21055  2014     11    5\n",
       "21056  2015      3   24\n",
       "21057  2014      5   23\n",
       "21058  2014      5    6\n",
       "21059  2015      2   17\n",
       "\n",
       "[21060 rows x 3 columns]"
      ]
     },
     "execution_count": 15,
     "metadata": {},
     "output_type": "execute_result"
    }
   ],
   "source": [
    "# import datetime\n",
    "# import hashlib\n",
    "\n",
    "# def encode_datetime(col):\n",
    "#     # Convert the datetime object to a string\n",
    "#     dt_string = col.dt.strftime('%Y-%m-%d')\n",
    "    \n",
    "    \n",
    "#     # Hash the string\n",
    "#     hash_value = [hashlib.sha256(value.encode()).hexdigest() for value in dt_string]\n",
    "                                \n",
    "#     # Convert the hash value to a numerical representation\n",
    "#     numerical_representation = [int(hash_value, 16)/ 1e16 for hash_value in hash_value]\n",
    "    \n",
    "#     return numerical_representation\n",
    "\n",
    "# datetime_encoded = encode_datetime(df['date'])\n",
    "# datetime_encoded_df = pd.DataFrame(datetime_encoded, columns=[\"date\"])\n",
    "# datetime_encoded_df\n",
    "\n",
    "df['year'] = df['date'].dt.year\n",
    "df['month'] = df['date'].dt.month\n",
    "df['day'] = df['date'].dt.day\n",
    "datetime_encoded = df[['year','month','day']]\n",
    "datetime_encoded"
   ]
  },
  {
   "cell_type": "markdown",
   "id": "4669e91a",
   "metadata": {},
   "source": [
    "### Final Dataset"
   ]
  },
  {
   "cell_type": "markdown",
   "id": "b660c1ec",
   "metadata": {},
   "source": [
    "#### Concat to datafinal"
   ]
  },
  {
   "cell_type": "code",
   "execution_count": 16,
   "id": "1eca085f",
   "metadata": {},
   "outputs": [],
   "source": [
    "datafinal = pd.concat([data_transformed, categorical_dummies, datetime_encoded],axis=1)"
   ]
  },
  {
   "cell_type": "code",
   "execution_count": 17,
   "id": "3cdb2a16",
   "metadata": {},
   "outputs": [
    {
     "data": {
      "text/plain": [
       "Index(['price_log', 'bedrooms_log', 'bathrooms_log', 'sqft_living_log',\n",
       "       'sqft_lot_log', 'grade_log', 'waterfront_Yes', 'view_Excellent',\n",
       "       'view_Fair', 'view_Good', 'view_No View', 'condition_Fair- Badly worn',\n",
       "       'condition_Good', 'condition_Poor- Worn out', 'condition_Very Good',\n",
       "       'year', 'month', 'day'],\n",
       "      dtype='object')"
      ]
     },
     "execution_count": 17,
     "metadata": {},
     "output_type": "execute_result"
    }
   ],
   "source": [
    "datafinal.columns"
   ]
  },
  {
   "cell_type": "markdown",
   "id": "f646bf77",
   "metadata": {},
   "source": [
    "#### View Correlation"
   ]
  },
  {
   "cell_type": "code",
   "execution_count": 18,
   "id": "8b2651ba",
   "metadata": {},
   "outputs": [
    {
     "data": {
      "text/plain": [
       "<matplotlib.colorbar.Colorbar at 0x124aca4aa60>"
      ]
     },
     "execution_count": 18,
     "metadata": {},
     "output_type": "execute_result"
    },
    {
     "data": {
      "image/png": "[encoded data removed]",
      "text/plain": [
       "<Figure size 720x720 with 2 Axes>"
      ]
     },
     "metadata": {
      "needs_background": "light"
     },
     "output_type": "display_data"
    }
   ],
   "source": [
    "# Calculate correlation matrix\n",
    "corr = datafinal.corr()\n",
    "\n",
    "# Create a figure and axes\n",
    "fig, ax = plt.subplots(figsize=(10,10))\n",
    "\n",
    "# Create a heatmap\n",
    "cax = ax.matshow(corr, cmap='coolwarm')\n",
    "plt.xticks(range(len(corr.columns)), corr.columns, rotation=90)\n",
    "plt.yticks(range(len(corr.columns)), corr.columns)\n",
    "plt.colorbar(cax)"
   ]
  },
  {
   "cell_type": "markdown",
   "id": "c62569aa",
   "metadata": {},
   "source": [
    "### Training Model"
   ]
  },
  {
   "cell_type": "code",
   "execution_count": 19,
   "id": "c597d845",
   "metadata": {},
   "outputs": [
    {
     "data": {
      "text/plain": [
       "price_log                     0\n",
       "bedrooms_log                  0\n",
       "bathrooms_log                 0\n",
       "sqft_living_log               0\n",
       "sqft_lot_log                  0\n",
       "grade_log                     0\n",
       "waterfront_Yes                0\n",
       "view_Excellent                0\n",
       "view_Fair                     0\n",
       "view_Good                     0\n",
       "view_No View                  0\n",
       "condition_Fair- Badly worn    0\n",
       "condition_Good                0\n",
       "condition_Poor- Worn out      0\n",
       "condition_Very Good           0\n",
       "year                          0\n",
       "month                         0\n",
       "day                           0\n",
       "dtype: int64"
      ]
     },
     "execution_count": 19,
     "metadata": {},
     "output_type": "execute_result"
    }
   ],
   "source": [
    "# Check null values\n",
    "datafinal.isnull().sum()"
   ]
  },
  {
   "cell_type": "markdown",
   "id": "e47357ee",
   "metadata": {},
   "source": [
    "#### Split to Train and Test"
   ]
  },
  {
   "cell_type": "code",
   "execution_count": 20,
   "id": "88d0e7a2",
   "metadata": {},
   "outputs": [],
   "source": [
    "from sklearn.model_selection import train_test_split\n",
    "\n",
    "# Feature selection\n",
    "X = datafinal.drop(['price_log'], axis=1)\n",
    "y = datafinal['price_log']\n",
    "\n",
    "# Split train, test\n",
    "X_train, X_test, y_train, y_test = train_test_split (X, y, test_size=0.2, random_state=42)"
   ]
  },
  {
   "cell_type": "markdown",
   "id": "c8be9922",
   "metadata": {},
   "source": [
    "#### Linear Regression"
   ]
  },
  {
   "cell_type": "code",
   "execution_count": 21,
   "id": "68fdcf19",
   "metadata": {},
   "outputs": [
    {
     "name": "stdout",
     "output_type": "stream",
     "text": [
      "Mean Squared Error: 0.0005486938155256882\n",
      "R-squared: 0.5189553959110034\n"
     ]
    }
   ],
   "source": [
    "from sklearn.linear_model import LinearRegression\n",
    "from sklearn.metrics import mean_squared_error, r2_score\n",
    "\n",
    "model_lr = LinearRegression()\n",
    "model_lr.fit(X_train, y_train)\n",
    "y_pred_lr = model_lr.predict(X_test)\n",
    "\n",
    "mse_lr = mean_squared_error(y_test, y_pred_lr)\n",
    "r2_lr = r2_score(y_test, y_pred_lr)\n",
    "\n",
    "print(\"Mean Squared Error:\", mse_lr)\n",
    "print(\"R-squared:\", r2_lr)"
   ]
  },
  {
   "cell_type": "markdown",
   "id": "0b0533ff",
   "metadata": {},
   "source": [
    "#### Random Forest "
   ]
  },
  {
   "cell_type": "code",
   "execution_count": 22,
   "id": "f038edf0",
   "metadata": {},
   "outputs": [
    {
     "name": "stdout",
     "output_type": "stream",
     "text": [
      "Mean Squared Error: 0.0005042231499933552\n",
      "R-squared: 0.5579432122290711\n"
     ]
    }
   ],
   "source": [
    "from sklearn.ensemble import RandomForestRegressor\n",
    "\n",
    "model_rfc = RandomForestRegressor(random_state=42, n_estimators=200)\n",
    "model_rfc.fit(X_train, y_train)\n",
    "y_pred_rfc = model_rfc.predict(X_test)\n",
    "\n",
    "mse_rfc = mean_squared_error(y_test, y_pred_rfc)\n",
    "r2_rfc = r2_score(y_test, y_pred_rfc)\n",
    "\n",
    "print(\"Mean Squared Error:\", mse_rfc)\n",
    "print(\"R-squared:\", r2_rfc)\n"
   ]
  },
  {
   "cell_type": "code",
   "execution_count": null,
   "id": "4e5344bd",
   "metadata": {},
   "outputs": [],
   "source": []
  }
 ],
 "metadata": {
  "kernelspec": {
   "display_name": "Python 3 (ipykernel)",
   "language": "python",
   "name": "python3"
  },
  "language_info": {
   "codemirror_mode": {
    "name": "ipython",
    "version": 3
   },
   "file_extension": ".py",
   "mimetype": "text/x-python",
   "name": "python",
   "nbconvert_exporter": "python",
   "pygments_lexer": "ipython3",
   "version": "3.9.12"
  }
 },
 "nbformat": 4,
 "nbformat_minor": 5
}
