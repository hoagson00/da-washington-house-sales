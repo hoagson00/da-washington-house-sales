{
 "cells": [
  {
   "cell_type": "code",
   "execution_count": 2,
   "id": "05d27167",
   "metadata": {},
   "outputs": [],
   "source": [
    "import pandas as pd\n",
    "filename = 'C:/Users/hoags/Desktop/Dataset/HouseData/House-Dataset.xlsx'\n",
    "df = pd.read_excel(filename)"
   ]
  },
  {
   "cell_type": "code",
   "execution_count": 3,
   "id": "66a3640a",
   "metadata": {},
   "outputs": [
    {
     "data": {
      "text/html": [
       "<div>\n",
       "<style scoped>\n",
       "    .dataframe tbody tr th:only-of-type {\n",
       "        vertical-align: middle;\n",
       "    }\n",
       "\n",
       "    .dataframe tbody tr th {\n",
       "        vertical-align: top;\n",
       "    }\n",
       "\n",
       "    .dataframe thead th {\n",
       "        text-align: right;\n",
       "    }\n",
       "</style>\n",
       "<table border=\"1\" class=\"dataframe\">\n",
       "  <thead>\n",
       "    <tr style=\"text-align: right;\">\n",
       "      <th></th>\n",
       "      <th>id</th>\n",
       "      <th>date</th>\n",
       "      <th>price</th>\n",
       "      <th>bedrooms</th>\n",
       "      <th>bathrooms</th>\n",
       "      <th>sqft_living</th>\n",
       "      <th>sqft_lot</th>\n",
       "      <th>floors</th>\n",
       "      <th>waterfront</th>\n",
       "      <th>view</th>\n",
       "      <th>condition</th>\n",
       "      <th>grade</th>\n",
       "      <th>yr_built</th>\n",
       "      <th>zipcode</th>\n",
       "      <th>lat</th>\n",
       "      <th>long</th>\n",
       "    </tr>\n",
       "  </thead>\n",
       "  <tbody>\n",
       "    <tr>\n",
       "      <th>0</th>\n",
       "      <td>629000615</td>\n",
       "      <td>20141022T000000</td>\n",
       "      <td>1495000</td>\n",
       "      <td>4</td>\n",
       "      <td>3.25</td>\n",
       "      <td>3070</td>\n",
       "      <td>10375</td>\n",
       "      <td>2.0</td>\n",
       "      <td>No</td>\n",
       "      <td>No View</td>\n",
       "      <td>Average</td>\n",
       "      <td>10</td>\n",
       "      <td>1962</td>\n",
       "      <td>98004</td>\n",
       "      <td>47.5862</td>\n",
       "      <td>-122.198</td>\n",
       "    </tr>\n",
       "    <tr>\n",
       "      <th>1</th>\n",
       "      <td>4141800215</td>\n",
       "      <td>20141126T000000</td>\n",
       "      <td>1495000</td>\n",
       "      <td>4</td>\n",
       "      <td>3.75</td>\n",
       "      <td>3770</td>\n",
       "      <td>4000</td>\n",
       "      <td>2.5</td>\n",
       "      <td>No</td>\n",
       "      <td>No View</td>\n",
       "      <td>Very Good</td>\n",
       "      <td>9</td>\n",
       "      <td>1916</td>\n",
       "      <td>98122</td>\n",
       "      <td>47.6157</td>\n",
       "      <td>-122.287</td>\n",
       "    </tr>\n",
       "    <tr>\n",
       "      <th>2</th>\n",
       "      <td>6448000020</td>\n",
       "      <td>20150129T000000</td>\n",
       "      <td>1490000</td>\n",
       "      <td>4</td>\n",
       "      <td>2.50</td>\n",
       "      <td>2420</td>\n",
       "      <td>18480</td>\n",
       "      <td>1.0</td>\n",
       "      <td>No</td>\n",
       "      <td>No View</td>\n",
       "      <td>Good</td>\n",
       "      <td>9</td>\n",
       "      <td>1967</td>\n",
       "      <td>98004</td>\n",
       "      <td>47.6214</td>\n",
       "      <td>-122.227</td>\n",
       "    </tr>\n",
       "    <tr>\n",
       "      <th>3</th>\n",
       "      <td>9522300010</td>\n",
       "      <td>20150331T000000</td>\n",
       "      <td>1490000</td>\n",
       "      <td>3</td>\n",
       "      <td>3.50</td>\n",
       "      <td>4560</td>\n",
       "      <td>14608</td>\n",
       "      <td>2.0</td>\n",
       "      <td>No</td>\n",
       "      <td>Average</td>\n",
       "      <td>Average</td>\n",
       "      <td>12</td>\n",
       "      <td>1990</td>\n",
       "      <td>98034</td>\n",
       "      <td>47.6995</td>\n",
       "      <td>-122.228</td>\n",
       "    </tr>\n",
       "    <tr>\n",
       "      <th>4</th>\n",
       "      <td>31000165</td>\n",
       "      <td>20140911T000000</td>\n",
       "      <td>1490000</td>\n",
       "      <td>5</td>\n",
       "      <td>3.50</td>\n",
       "      <td>3620</td>\n",
       "      <td>7821</td>\n",
       "      <td>2.0</td>\n",
       "      <td>No</td>\n",
       "      <td>Average</td>\n",
       "      <td>Average</td>\n",
       "      <td>10</td>\n",
       "      <td>1958</td>\n",
       "      <td>98040</td>\n",
       "      <td>47.5738</td>\n",
       "      <td>-122.215</td>\n",
       "    </tr>\n",
       "  </tbody>\n",
       "</table>\n",
       "</div>"
      ],
      "text/plain": [
       "           id             date    price  bedrooms  bathrooms  sqft_living  \\\n",
       "0   629000615  20141022T000000  1495000         4       3.25         3070   \n",
       "1  4141800215  20141126T000000  1495000         4       3.75         3770   \n",
       "2  6448000020  20150129T000000  1490000         4       2.50         2420   \n",
       "3  9522300010  20150331T000000  1490000         3       3.50         4560   \n",
       "4    31000165  20140911T000000  1490000         5       3.50         3620   \n",
       "\n",
       "   sqft_lot  floors waterfront     view  condition  grade  yr_built  zipcode  \\\n",
       "0     10375     2.0         No  No View    Average     10      1962    98004   \n",
       "1      4000     2.5         No  No View  Very Good      9      1916    98122   \n",
       "2     18480     1.0         No  No View       Good      9      1967    98004   \n",
       "3     14608     2.0         No  Average    Average     12      1990    98034   \n",
       "4      7821     2.0         No  Average    Average     10      1958    98040   \n",
       "\n",
       "       lat     long  \n",
       "0  47.5862 -122.198  \n",
       "1  47.6157 -122.287  \n",
       "2  47.6214 -122.227  \n",
       "3  47.6995 -122.228  \n",
       "4  47.5738 -122.215  "
      ]
     },
     "execution_count": 3,
     "metadata": {},
     "output_type": "execute_result"
    }
   ],
   "source": [
    "df.head()"
   ]
  },
  {
   "cell_type": "code",
   "execution_count": 4,
   "id": "c66c8ac9",
   "metadata": {},
   "outputs": [
    {
     "data": {
      "text/plain": [
       "bedrooms       0.32\n",
       "bathrooms      0.49\n",
       "sqft_living    0.66\n",
       "sqft_lot       0.09\n",
       "floors         0.28\n",
       "grade          0.66\n",
       "yr_built       0.06\n",
       "Name: price, dtype: float64"
      ]
     },
     "execution_count": 4,
     "metadata": {},
     "output_type": "execute_result"
    }
   ],
   "source": [
    "### Correlation between price and other columns\n",
    "price_corr = df.corr()['price'][2:9].round(2)\n",
    "price_corr"
   ]
  },
  {
   "cell_type": "code",
   "execution_count": 11,
   "id": "8ba41672",
   "metadata": {},
   "outputs": [
    {
     "data": {
      "text/plain": [
       "view       condition       \n",
       "Average    Average               555\n",
       "           Fair- Badly worn        2\n",
       "           Good                  246\n",
       "           Very Good              91\n",
       "Excellent  Average               109\n",
       "           Good                   68\n",
       "           Poor- Worn out          2\n",
       "           Very Good              23\n",
       "Fair       Average               171\n",
       "           Fair- Badly worn        1\n",
       "           Good                  100\n",
       "           Poor- Worn out          1\n",
       "           Very Good              29\n",
       "Good       Average               267\n",
       "           Fair- Badly worn        2\n",
       "           Good                  134\n",
       "           Very Good              33\n",
       "No View    Average             12582\n",
       "           Fair- Badly worn      166\n",
       "           Good                 4998\n",
       "           Poor- Worn out         26\n",
       "           Very Good            1454\n",
       "Name: id, dtype: int64"
      ]
     },
     "execution_count": 11,
     "metadata": {},
     "output_type": "execute_result"
    }
   ],
   "source": [
    "df.groupby(by=['view','condition'])['id'].count()"
   ]
  },
  {
   "cell_type": "code",
   "execution_count": 20,
   "id": "60bf016b",
   "metadata": {},
   "outputs": [
    {
     "data": {
      "text/plain": [
       "zipcode\n",
       "98039    1.145200e+06\n",
       "98004    9.574203e+05\n",
       "98040    9.550188e+05\n",
       "98112    8.559478e+05\n",
       "98109    7.801148e+05\n",
       "             ...     \n",
       "98148    2.849086e+05\n",
       "98001    2.808047e+05\n",
       "98032    2.512962e+05\n",
       "98168    2.403284e+05\n",
       "98002    2.342840e+05\n",
       "Name: price, Length: 70, dtype: float64"
      ]
     },
     "execution_count": 20,
     "metadata": {},
     "output_type": "execute_result"
    }
   ],
   "source": [
    "avg_price_by_zipcode = df.groupby('zipcode')['price'].mean()\n",
    "### Top 3 prices by zipcode\n",
    "avg_price_by_zipcode_top3 = avg_price_by_zipcode.sort_values(ascending = False)\n",
    "avg_price_by_zipcode_top3"
   ]
  },
  {
   "cell_type": "code",
   "execution_count": 19,
   "id": "8348dc9a",
   "metadata": {},
   "outputs": [
    {
     "data": {
      "text/plain": [
       "zipcode\n",
       "98001    280804.690608\n",
       "98002    234284.035176\n",
       "98003    294111.278571\n",
       "98004    957420.266990\n",
       "98005    773399.376543\n",
       "             ...      \n",
       "98177    602217.181070\n",
       "98178    305289.432950\n",
       "98188    289078.345588\n",
       "98198    302878.882143\n",
       "98199    731997.346535\n",
       "Name: price, Length: 70, dtype: float64"
      ]
     },
     "execution_count": 19,
     "metadata": {},
     "output_type": "execute_result"
    }
   ],
   "source": [
    "avg_price_by_zipcode"
   ]
  },
  {
   "cell_type": "code",
   "execution_count": 21,
   "id": "c60aa665",
   "metadata": {},
   "outputs": [
    {
     "name": "stdout",
     "output_type": "stream",
     "text": [
      "<class 'pandas.core.frame.DataFrame'>\n",
      "RangeIndex: 21060 entries, 0 to 21059\n",
      "Data columns (total 16 columns):\n",
      " #   Column       Non-Null Count  Dtype  \n",
      "---  ------       --------------  -----  \n",
      " 0   id           21060 non-null  int64  \n",
      " 1   date         21060 non-null  object \n",
      " 2   price        21060 non-null  int64  \n",
      " 3   bedrooms     21060 non-null  int64  \n",
      " 4   bathrooms    21060 non-null  float64\n",
      " 5   sqft_living  21060 non-null  int64  \n",
      " 6   sqft_lot     21060 non-null  int64  \n",
      " 7   floors       21060 non-null  float64\n",
      " 8   waterfront   21060 non-null  object \n",
      " 9   view         21060 non-null  object \n",
      " 10  condition    21060 non-null  object \n",
      " 11  grade        21060 non-null  int64  \n",
      " 12  yr_built     21060 non-null  int64  \n",
      " 13  zipcode      21060 non-null  int64  \n",
      " 14  lat          21060 non-null  float64\n",
      " 15  long         21060 non-null  float64\n",
      "dtypes: float64(4), int64(8), object(4)\n",
      "memory usage: 2.6+ MB\n"
     ]
    }
   ],
   "source": [
    "df.info()"
   ]
  },
  {
   "cell_type": "code",
   "execution_count": 22,
   "id": "21970461",
   "metadata": {},
   "outputs": [
    {
     "name": "stdout",
     "output_type": "stream",
     "text": [
      "<class 'pandas.core.frame.DataFrame'>\n",
      "RangeIndex: 21060 entries, 0 to 21059\n",
      "Data columns (total 16 columns):\n",
      " #   Column       Non-Null Count  Dtype         \n",
      "---  ------       --------------  -----         \n",
      " 0   id           21060 non-null  int64         \n",
      " 1   date         21060 non-null  datetime64[ns]\n",
      " 2   price        21060 non-null  int64         \n",
      " 3   bedrooms     21060 non-null  int64         \n",
      " 4   bathrooms    21060 non-null  float64       \n",
      " 5   sqft_living  21060 non-null  int64         \n",
      " 6   sqft_lot     21060 non-null  int64         \n",
      " 7   floors       21060 non-null  float64       \n",
      " 8   waterfront   21060 non-null  object        \n",
      " 9   view         21060 non-null  object        \n",
      " 10  condition    21060 non-null  object        \n",
      " 11  grade        21060 non-null  int64         \n",
      " 12  yr_built     21060 non-null  int64         \n",
      " 13  zipcode      21060 non-null  int64         \n",
      " 14  lat          21060 non-null  float64       \n",
      " 15  long         21060 non-null  float64       \n",
      "dtypes: datetime64[ns](1), float64(4), int64(8), object(3)\n",
      "memory usage: 2.6+ MB\n"
     ]
    }
   ],
   "source": [
    "df['date'] = pd.to_datetime(df['date'])\n",
    "df.info()"
   ]
  },
  {
   "cell_type": "code",
   "execution_count": 24,
   "id": "2d32300b",
   "metadata": {},
   "outputs": [],
   "source": [
    "df['week'] = df['date'].dt.isocalendar().week"
   ]
  },
  {
   "cell_type": "code",
   "execution_count": null,
   "id": "21ad15e8",
   "metadata": {},
   "outputs": [],
   "source": []
  },
  {
   "cell_type": "code",
   "execution_count": null,
   "id": "18ddf62b",
   "metadata": {},
   "outputs": [],
   "source": []
  },
  {
   "cell_type": "code",
   "execution_count": null,
   "id": "badd4640",
   "metadata": {},
   "outputs": [],
   "source": []
  },
  {
   "cell_type": "code",
   "execution_count": null,
   "id": "999b360f",
   "metadata": {},
   "outputs": [],
   "source": []
  },
  {
   "cell_type": "code",
   "execution_count": null,
   "id": "41e878ba",
   "metadata": {},
   "outputs": [],
   "source": []
  }
 ],
 "metadata": {
  "kernelspec": {
   "display_name": "Python 3 (ipykernel)",
   "language": "python",
   "name": "python3"
  },
  "language_info": {
   "codemirror_mode": {
    "name": "ipython",
    "version": 3
   },
   "file_extension": ".py",
   "mimetype": "text/x-python",
   "name": "python",
   "nbconvert_exporter": "python",
   "pygments_lexer": "ipython3",
   "version": "3.9.12"
  }
 },
 "nbformat": 4,
 "nbformat_minor": 5
}
